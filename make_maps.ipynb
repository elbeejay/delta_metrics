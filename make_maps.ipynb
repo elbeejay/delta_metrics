{
 "cells": [
  {
   "cell_type": "code",
   "execution_count": 1,
   "metadata": {},
   "outputs": [],
   "source": [
    "import numpy as np\n",
    "from scipy.io import loadmat\n",
    "import matplotlib.pyplot as plt\n",
    "%matplotlib inline\n",
    "\n",
    "from make_map import make_map\n",
    "\n",
    "from file_util import load_matlab_data\n",
    "# from channel_overlap import channel_overlap\n",
    "from plot import plot_discharge\n",
    "from metrics import *\n",
    "from stratigraphy import sedimentograph\n",
    "\n",
    "\n",
    "import cPickle as pickle"
   ]
  },
  {
   "cell_type": "code",
   "execution_count": 2,
   "metadata": {},
   "outputs": [],
   "source": [
    "TH_TOPO = -0.5\n",
    "TH_ANGLE = 75\n",
    "TH_VEL = 0.3 # use the threshold value for mud deposition (U_dep_mud)\n",
    "\n",
    "fbase = 'baseF25data'\n",
    "froot = '../JGR2016_data/'\n",
    "sroot = 'mapfiles/'"
   ]
  },
  {
   "cell_type": "code",
   "execution_count": 3,
   "metadata": {},
   "outputs": [],
   "source": [
    "for fnum in range(4005,4006):\n",
    "\n",
    "    fname = fbase + str(fnum)\n",
    "    data = load_matlab_data(froot, fname)\n",
    "\n",
    "    topo = data['eta']\n",
    "    uw = data['uw']\n",
    "\n",
    "    # clip to make the file smaller\n",
    "    topo_clip = topo[3:-5,5:-10]\n",
    "    vel_clip = uw[3:-5,5:-10]\n",
    "\n",
    "    mapfile = make_map(topo_clip,\n",
    "                       vel_clip,\n",
    "                       topo_threshold = TH_TOPO,\n",
    "                       angle_threshold = TH_ANGLE,\n",
    "                       velocity_threshold = TH_VEL,\n",
    "                       numviews = 5,\n",
    "                       save_file = True,\n",
    "                       sroot = sroot,\n",
    "                       fname = fname)\n",
    "\n",
    "    frac_areas = fractional_areas(mapfile)\n",
    "    EdgeDistMap, histogram = nearest_edge_distance(mapfile)\n",
    "    D_frac = fractal_dimension(mapfile['centerlinemap'])\n",
    "    \n",
    "    island_props = island_properties(mapfile)\n",
    "    \n",
    "    seds = sedimentograph(data['strata'])"
   ]
  },
  {
   "cell_type": "code",
   "execution_count": 8,
   "metadata": {},
   "outputs": [],
   "source": [
    "filenames = [sroot + fbase + str(i) + '.p' for i in range(4005,4010)]\n",
    "overlapmap, difference, phi, O_phi, f_R = channel_overlap(filenames)"
   ]
  },
  {
   "cell_type": "code",
   "execution_count": null,
   "metadata": {},
   "outputs": [],
   "source": []
  },
  {
   "cell_type": "code",
   "execution_count": null,
   "metadata": {},
   "outputs": [],
   "source": []
  },
  {
   "cell_type": "code",
   "execution_count": null,
   "metadata": {},
   "outputs": [],
   "source": []
  },
  {
   "cell_type": "code",
   "execution_count": null,
   "metadata": {},
   "outputs": [],
   "source": []
  },
  {
   "cell_type": "code",
   "execution_count": null,
   "metadata": {},
   "outputs": [],
   "source": []
  },
  {
   "cell_type": "code",
   "execution_count": null,
   "metadata": {},
   "outputs": [],
   "source": []
  }
 ],
 "metadata": {
  "anaconda-cloud": {},
  "kernelspec": {
   "display_name": "Python [default]",
   "language": "python",
   "name": "python2"
  },
  "language_info": {
   "codemirror_mode": {
    "name": "ipython",
    "version": 2
   },
   "file_extension": ".py",
   "mimetype": "text/x-python",
   "name": "python",
   "nbconvert_exporter": "python",
   "pygments_lexer": "ipython2",
   "version": "2.7.14"
  }
 },
 "nbformat": 4,
 "nbformat_minor": 2
}
