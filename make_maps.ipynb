{
 "cells": [
  {
   "cell_type": "code",
   "execution_count": 1,
   "metadata": {},
   "outputs": [],
   "source": [
    "import numpy as np\n",
    "from scipy.io import loadmat\n",
    "import matplotlib.pyplot as plt\n",
    "%matplotlib inline\n",
    "\n",
    "from make_map import make_map\n",
    "\n",
    "from file_util import load_matlab_data\n",
    "# from channel_overlap import channel_overlap\n",
    "from plot import plot_discharge\n",
    "from metrics import *\n",
    "from stratigraphy import sedimentograph\n",
    "\n",
    "\n",
    "import cPickle as pickle"
   ]
  },
  {
   "cell_type": "code",
   "execution_count": 2,
   "metadata": {},
   "outputs": [],
   "source": [
    "TH_TOPO = -0.5\n",
    "TH_ANGLE = 75\n",
    "TH_VEL = 0.3 # use the threshold value for mud deposition (U_dep_mud)\n",
    "\n",
    "fbase = 'baseF25data'\n",
    "froot = '../JGR2016_data/'\n",
    "sroot = 'mapfiles/'"
   ]
  },
  {
   "cell_type": "code",
   "execution_count": 3,
   "metadata": {},
   "outputs": [],
   "source": [
    "for fnum in range(4005,4006):\n",
    "\n",
    "    fname = fbase + str(fnum)\n",
    "    data = load_matlab_data(froot, fname)\n",
    "\n",
    "    topo = data['eta']\n",
    "    uw = data['uw']\n",
    "\n",
    "    # clip to make the file smaller\n",
    "    topo_clip = topo[3:-5,5:-10]\n",
    "    vel_clip = uw[3:-5,5:-10]\n",
    "\n",
    "    mapfile = make_map(topo_clip,\n",
    "                       vel_clip,\n",
    "                       topo_threshold = TH_TOPO,\n",
    "                       angle_threshold = TH_ANGLE,\n",
    "                       velocity_threshold = TH_VEL,\n",
    "                       numviews = 5,\n",
    "                       save_file = True,\n",
    "                       sroot = sroot,\n",
    "                       fname = fname)\n",
    "\n",
    "    frac_areas = fractional_areas(mapfile)\n",
    "    EdgeDistMap, histogram = nearest_edge_distance(mapfile)\n",
    "    D_frac = fractal_dimension(mapfile['centerlinemap'])\n",
    "    \n",
    "    island_props = island_properties(mapfile)\n",
    "    \n",
    "    seds = sedimentograph(data['strata'])"
   ]
  },
  {
   "cell_type": "code",
   "execution_count": 6,
   "metadata": {},
   "outputs": [],
   "source": [
    "import numpy as np\n",
    "import cPickle as pickle\n",
    "\n",
    "def channel_overlap(filenames):\n",
    "    '''\n",
    "    Accepts a list of filenames for mapfiles and\n",
    "    compares the position of their channels.\n",
    "    \n",
    "    Follows same order as the list\n",
    "    '''\n",
    "\n",
    "    # first mapfile in list\n",
    "    f = filenames[0]\n",
    "    mapfile = pickle.load( open( f, \"rb\" ) )\n",
    "    data = mapfile['channelmap']\n",
    "\n",
    "    # create empty overlap map arrays\n",
    "    overlapmap = np.zeros(data.shape)\n",
    "    difference, phi, O_phi, f_R = np.zeros((4, len(filenames,)))\n",
    "\n",
    "    # create circular mask\n",
    "    maskmap, area_mask = create_circular_mask(data, data.shape[1]/2., 0, 55, 5)\n",
    "\n",
    "    # get base image values\n",
    "    chan_base = data * maskmap\n",
    "    fw_base = chan_base.sum() / area_mask\n",
    "    Adry_base = area_mask * (1 - fw_base)\n",
    "    \n",
    "\n",
    "\n",
    "    for n,f in enumerate(filenames):\n",
    "\n",
    "        mapfile = pickle.load( open( f, \"rb\" ) )\n",
    "        data = mapfile['channelmap']\n",
    "\n",
    "        chan_step = data * maskmap\n",
    "        fw_step = chan_step.sum() / area_mask\n",
    "\n",
    "        difference[n] = np.abs(chan_base - chan_step).sum()\n",
    "\n",
    "        phi[n] = fw_base * (1 - fw_step) + (1 - fw_base) * fw_step\n",
    "        O_phi[n] = 1 - difference[n] / (area_mask * phi[n])\n",
    "\n",
    "        overlapmap = overlapmap + chan_step\n",
    "        drymap = np.maximum(0, 1 - overlapmap) * maskmap\n",
    "        f_R[n] = 1 - drymap.sum() / Adry_base\n",
    "\n",
    "\n",
    "    return overlapmap, difference, phi, O_phi, f_R\n",
    "    \n",
    "    \n",
    "    \n",
    "def create_circular_mask(data, x0, y0, r1, r2):\n",
    "    \n",
    "    n = max(data.shape)\n",
    "    y,x = np.ogrid[-y0:n-y0, -x0:n-x0]\n",
    "\n",
    "    mask = (x*x + y*y <= r1*r1) & (x*x + y*y >= r2*r2)\n",
    "\n",
    "    array = np.zeros((n, n))\n",
    "    array[mask] = 1\n",
    "    maskmap = array[:data.shape[0], :data.shape[1]] > 0\n",
    "    area_mask = maskmap.sum()\n",
    "    \n",
    "    return maskmap, float(area_mask)"
   ]
  },
  {
   "cell_type": "code",
   "execution_count": 8,
   "metadata": {},
   "outputs": [],
   "source": [
    "filenames = [sroot + fbase + str(i) + '.p' for i in range(4005,4010)]\n",
    "overlapmap, difference, phi, O_phi, f_R = channel_overlap(filenames)"
   ]
  },
  {
   "cell_type": "code",
   "execution_count": null,
   "metadata": {},
   "outputs": [],
   "source": []
  },
  {
   "cell_type": "code",
   "execution_count": null,
   "metadata": {},
   "outputs": [],
   "source": []
  },
  {
   "cell_type": "code",
   "execution_count": null,
   "metadata": {},
   "outputs": [],
   "source": []
  },
  {
   "cell_type": "code",
   "execution_count": null,
   "metadata": {},
   "outputs": [],
   "source": []
  },
  {
   "cell_type": "code",
   "execution_count": null,
   "metadata": {},
   "outputs": [],
   "source": []
  },
  {
   "cell_type": "code",
   "execution_count": null,
   "metadata": {},
   "outputs": [],
   "source": []
  }
 ],
 "metadata": {
  "anaconda-cloud": {},
  "kernelspec": {
   "display_name": "Python [default]",
   "language": "python",
   "name": "python2"
  },
  "language_info": {
   "codemirror_mode": {
    "name": "ipython",
    "version": 2
   },
   "file_extension": ".py",
   "mimetype": "text/x-python",
   "name": "python",
   "nbconvert_exporter": "python",
   "pygments_lexer": "ipython2",
   "version": "2.7.14"
  }
 },
 "nbformat": 4,
 "nbformat_minor": 2
}
