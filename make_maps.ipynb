{
 "cells": [
  {
   "cell_type": "code",
   "execution_count": 18,
   "metadata": {},
   "outputs": [],
   "source": [
    "import numpy as np\n",
    "from scipy.io import loadmat\n",
    "import matplotlib.pyplot as plt\n",
    "%matplotlib inline\n",
    "\n",
    "from make_map import make_map\n",
    "\n",
    "from file_util import load_matlab_data"
   ]
  },
  {
   "cell_type": "code",
   "execution_count": 19,
   "metadata": {},
   "outputs": [],
   "source": [
    "fnum = 4006\n",
    "fname = 'baseF25data' + str(fnum)\n",
    "froot = '../JGR2016_data/'\n",
    "sroot = 'mapfiles/'\n",
    "\n",
    "TH_TOPO = -0.5\n",
    "TH_ANGLE = 75\n",
    "TH_VEL = 0.3 # use the threshold value for mud deposition (U_dep_mud)\n",
    "\n",
    "\n",
    "data = load_matlab_data(froot, fname)\n",
    "\n",
    "topo = data['eta']\n",
    "uw = data['uw']\n",
    "\n",
    "# clip to make the file smaller\n",
    "topo_clip = topo[3:-5,5:-10]\n",
    "vel_clip = uw[3:-5,5:-10]\n",
    "\n",
    "mapfile = make_map(topo_clip,\n",
    "                   vel_clip,\n",
    "                   topo_threshold = TH_TOPO,\n",
    "                   angle_threshold = TH_ANGLE,\n",
    "                   velocity_threshold = TH_VEL,\n",
    "                   numviews = 5,\n",
    "                   sroot = sroot,\n",
    "                   fname = fname)\n",
    "\n"
   ]
  },
  {
   "cell_type": "code",
   "execution_count": null,
   "metadata": {},
   "outputs": [],
   "source": []
  }
 ],
 "metadata": {
  "anaconda-cloud": {},
  "kernelspec": {
   "display_name": "Python [default]",
   "language": "python",
   "name": "python2"
  },
  "language_info": {
   "codemirror_mode": {
    "name": "ipython",
    "version": 2
   },
   "file_extension": ".py",
   "mimetype": "text/x-python",
   "name": "python",
   "nbconvert_exporter": "python",
   "pygments_lexer": "ipython2",
   "version": "2.7.14"
  }
 },
 "nbformat": 4,
 "nbformat_minor": 2
}
