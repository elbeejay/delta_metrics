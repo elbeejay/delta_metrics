{
 "cells": [
  {
   "cell_type": "code",
   "execution_count": 1,
   "metadata": {},
   "outputs": [],
   "source": [
    "import cPickle as pickle\n",
    "import numpy as np\n",
    "import matplotlib.pyplot as plt\n",
    "\n",
    "from file_util import load_matlab_data\n",
    "from metrics import *\n",
    "from autocorrelation import *\n",
    "from fun_radial_strata import *"
   ]
  },
  {
   "cell_type": "code",
   "execution_count": 29,
   "metadata": {
    "collapsed": true
   },
   "outputs": [],
   "source": [
    "fbase = 'data'\n",
    "froot = 'ForHollyMichael/'\n",
    "sroot = 'autocorr/'\n",
    "r0 = 15.0                      # Set radius for arc"
   ]
  },
  {
   "cell_type": "code",
   "execution_count": 30,
   "metadata": {
    "collapsed": true
   },
   "outputs": [],
   "source": [
    "fnum = 3100\n",
    "fname = fbase + str(fnum)\n",
    "data = load_matlab_data(froot, fname)\n",
    "strata = data['strata']"
   ]
  },
  {
   "cell_type": "code",
   "execution_count": 31,
   "metadata": {
    "scrolled": true
   },
   "outputs": [
    {
     "data": {
      "image/png": "[encoded data removed]",
      "text/plain": [
       "<matplotlib.figure.Figure at 0x7f2df5f39310>"
      ]
     },
     "metadata": {},
     "output_type": "display_data"
    }
   ],
   "source": [
    "coordinates = rad_strata(r0,strata)"
   ]
  },
  {
   "cell_type": "code",
   "execution_count": 39,
   "metadata": {},
   "outputs": [],
   "source": [
    "# Set up 1D array of strata values along top layer along arc path\n",
    "oned = np.zeros(np.shape(coordinates)[0])\n",
    "for i in range(0,np.shape(coordinates)[0]):\n",
    "    x = int(coordinates[i,0])\n",
    "    y = int(coordinates[i,1])\n",
    "    oned[i] = strata[x,y,200]"
   ]
  },
  {
   "cell_type": "code",
   "execution_count": 40,
   "metadata": {},
   "outputs": [],
   "source": [
    "x = estimated_autocorrelation(oned)"
   ]
  },
  {
   "cell_type": "code",
   "execution_count": 41,
   "metadata": {},
   "outputs": [
    {
     "data": {
      "image/png": "[encoded data removed]",
      "text/plain": [
       "<matplotlib.figure.Figure at 0x7f2df5e20590>"
      ]
     },
     "metadata": {},
     "output_type": "display_data"
    }
   ],
   "source": [
    "i = range(0,int(np.shape(x)[0]))\n",
    "plt.scatter(i,x)\n",
    "plt.show()"
   ]
  },
  {
   "cell_type": "code",
   "execution_count": 35,
   "metadata": {},
   "outputs": [
    {
     "data": {
      "text/plain": [
       "array([  1.00000000e+00,   3.72488856e-01,  -7.03096297e-02,\n",
       "         8.98925722e-02,   8.90783176e-02,  -6.48935842e-02,\n",
       "        -6.57078388e-02,  -6.65220933e-02,   6.79663939e-02,\n",
       "         2.02454881e-01,   6.63378847e-02,  -5.57603370e-02,\n",
       "        -4.25558169e-02,  -4.33700715e-02,  -3.37920296e-02,\n",
       "        -2.42139876e-02,  -2.50282422e-02,  -2.58424967e-02,\n",
       "        -1.46565823e-02,  -1.54708369e-02,  -1.62850915e-02,\n",
       "        -1.70993460e-02,  -1.79136006e-02,  -1.87278552e-02,\n",
       "        -1.95421098e-02,  -2.03563643e-02,  -2.11706189e-02,\n",
       "        -2.19848735e-02,  -2.27991281e-02,  -2.36133826e-02,\n",
       "        -2.44276372e-02,  -2.52418918e-02,  -2.60561463e-02,\n",
       "        -2.68704009e-02,  -2.76846555e-02,  -2.84989101e-02,\n",
       "        -2.93131646e-02,  -3.01274192e-02,  -3.09416738e-02,\n",
       "        -3.17559284e-02,  -3.25701829e-02,  -3.33844375e-02,\n",
       "        -3.41986921e-02,  -3.50129467e-02,  -3.58272012e-02,\n",
       "        -3.66414558e-02,  -3.74557104e-02,  -3.82699649e-02,\n",
       "        -3.90842195e-02,  -3.98984741e-02,  -4.07127287e-02,\n",
       "        -4.15269832e-02,  -4.23412378e-02,  -4.31554924e-02,\n",
       "        -4.39697470e-02,  -4.47840015e-02,  -4.55982561e-02,\n",
       "        -4.64125107e-02,  -4.72267653e-02,  -4.80410198e-02,\n",
       "        -4.88552744e-02,  -4.96695290e-02,  -5.04837835e-02,\n",
       "        -5.12980381e-02,  -5.21122927e-02,   1.53676732e-01,\n",
       "         1.52862477e-01,  -5.45550564e-02,   1.23551714e-01,\n",
       "         3.01658485e-01,   1.21923205e-01,  -5.78120747e-02,\n",
       "        -5.86263293e-02,  -5.94405839e-02,   5.55652536e-02,\n",
       "         5.47509990e-02,  -6.18833476e-02,   4.96042160e-02,\n",
       "         1.49091611e-01,   4.79757069e-02,  -4.27479003e-02,\n",
       "        -3.31698584e-02,  -3.39841129e-02,  -2.07795929e-02,\n",
       "        -7.57507285e-03,  -8.38932742e-03,  -9.20358200e-03,\n",
       "        -1.00178366e-02,  -1.08320911e-02,  -1.16463457e-02,\n",
       "        -1.24606003e-02,  -1.32748549e-02,  -6.23030014e-03,\n",
       "         8.14254573e-04])"
      ]
     },
     "execution_count": 35,
     "metadata": {},
     "output_type": "execute_result"
    }
   ],
   "source": [
    "x"
   ]
  },
  {
   "cell_type": "code",
   "execution_count": null,
   "metadata": {
    "collapsed": true
   },
   "outputs": [],
   "source": []
  }
 ],
 "metadata": {
  "kernelspec": {
   "display_name": "Python 2",
   "language": "python",
   "name": "python2"
  },
  "language_info": {
   "codemirror_mode": {
    "name": "ipython",
    "version": 2
   },
   "file_extension": ".py",
   "mimetype": "text/x-python",
   "name": "python",
   "nbconvert_exporter": "python",
   "pygments_lexer": "ipython2",
   "version": "2.7.14"
  }
 },
 "nbformat": 4,
 "nbformat_minor": 2
}
